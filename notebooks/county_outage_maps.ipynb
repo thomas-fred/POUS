{
 "cells": [
  {
   "cell_type": "code",
   "execution_count": 29,
   "id": "30f791f9-248f-40e3-858a-331d7cd07ccf",
   "metadata": {},
   "outputs": [],
   "source": [
    "import os\n",
    "\n",
    "import geopandas as gpd\n",
    "import matplotlib\n",
    "import matplotlib.pyplot as plt\n",
    "import matplotlib.colors as colors\n",
    "from mpl_toolkits.axes_grid1 import make_axes_locatable\n",
    "import numpy as np\n",
    "import pandas as pd\n",
    "from scipy.integrate import simpson\n",
    "from tqdm.notebook import tqdm\n",
    "\n",
    "from lib import merge_in_geometry"
   ]
  },
  {
   "cell_type": "code",
   "execution_count": 2,
   "id": "1995bea8-24f6-4e66-9d96-136c285f691b",
   "metadata": {},
   "outputs": [],
   "source": [
    "plt.style.use('dark_background')  # for cool points"
   ]
  },
  {
   "cell_type": "code",
   "execution_count": 22,
   "id": "49a188b2-89e5-4877-b074-2df159e8cde2",
   "metadata": {},
   "outputs": [],
   "source": [
    "years = list(range(2017, 2023))\n",
    "root_dir = \"data\"\n",
    "states = pd.read_csv(os.path.join(root_dir, \"raw/states/state_codes.csv\")).set_index(\"state_fips_code\")\n",
    "county_boundaries: gpd.GeoDataFrame = gpd.read_file(os.path.join(root_dir, \"raw/counties/cb_2018_us_county_500k.shp\"))\n",
    "outage_integrals_path = os.path.join(\"data\", \"processed\", \"outage\", \"yearly_county_outage_integrals.csv\")"
   ]
  },
  {
   "cell_type": "code",
   "execution_count": 15,
   "id": "88657239-b71e-4ccd-99a7-6efded7367d6",
   "metadata": {},
   "outputs": [
    {
     "name": "stdout",
     "output_type": "stream",
     "text": [
      "2017\n",
      "2018\n",
      "2019\n",
      "2020\n",
      "2021\n",
      "2022\n"
     ]
    }
   ],
   "source": [
    "data_by_year = {}\n",
    "for year in years:\n",
    "    print(year)\n",
    "    processed_path = os.path.join(root_dir, f\"processed/outage/{year}.parquet\")\n",
    "    data = pd.read_parquet(processed_path)\n",
    "    data.OutageFraction = np.clip(data.OutageFraction, 0, 1)\n",
    "    data_by_year[year] = data"
   ]
  },
  {
   "cell_type": "code",
   "execution_count": 16,
   "id": "0dabdc59-aaab-4e86-99f1-e530298605ff",
   "metadata": {},
   "outputs": [],
   "source": [
    "counties = set()\n",
    "for year, data in data_by_year.items():\n",
    "    counties = counties | set(data.index.get_level_values(\"CountyFIPS\"))\n",
    "counties = sorted(counties)"
   ]
  },
  {
   "cell_type": "code",
   "execution_count": 26,
   "id": "13a7c5d6-0ec9-4ea9-9bef-b581822f914e",
   "metadata": {},
   "outputs": [],
   "source": [
    "if os.path.exists(outage_integrals_path):\n",
    "    df = pd.read_csv(outage_integrals_path, index_col=False, dtype={\"county\": str})    \n",
    "    \n",
    "else:\n",
    "    integrals = []\n",
    "    for county_code in tqdm(counties):\n",
    "\n",
    "        try:\n",
    "            county = county_boundaries.sort_values(\"GEOID\").set_index(\"GEOID\").loc[county_code, :]\n",
    "            state_code = county.STATEFP\n",
    "            state_name = states.loc[int(state_code), \"state_name\"]\n",
    "            county_name = county.NAME\n",
    "        except Exception as e:\n",
    "            #print(f\"Couldn't find names for county: {county}\")\n",
    "            state_name = \"-\"\n",
    "            county_name = \"-\"\n",
    "\n",
    "        # whole timeseries April-October for single county\n",
    "        for year in years:\n",
    "            df = data_by_year[year]\n",
    "            try:\n",
    "                data = df.loc(axis=0)[:, county_code].reset_index(level=\"CountyFIPS\")\n",
    "                complete_index = pd.date_range(f\"{year}-04-01\", f\"{year}-10-31\", freq=\"1H\")\n",
    "                data = data.reindex(index=complete_index, fill_value=0)\n",
    "                data.index.name = \"RecordDateTime\"\n",
    "            except KeyError:\n",
    "                #print(f\"Couldn't find outage data for {county_code}\")\n",
    "                continue\n",
    "\n",
    "            # integrate OutageFraction over time\n",
    "            time_axis_in_hours = data.reset_index()[\"RecordDateTime\"].astype(int) / (3600 * 1E9)\n",
    "            time_axis_in_hours = time_axis_in_hours - time_axis_in_hours.iloc[0]\n",
    "            time_span = time_axis_in_hours.iloc[-1] - time_axis_in_hours.iloc[0]\n",
    "            outage_integral = simpson(data.OutageFraction, x=time_axis_in_hours)\n",
    "\n",
    "            integrals.append((year, county_code, outage_integral, time_span))\n",
    "            \n",
    "    df = pd.DataFrame(integrals, columns=[\"year\", \"county\", \"outage_integral\", \"total_duration_h\"])\n",
    "    df.to_csv(outage_integrals_path, index=False)"
   ]
  },
  {
   "cell_type": "code",
   "execution_count": 116,
   "id": "12ce4458-4c06-45a6-8d49-648707cc4eb1",
   "metadata": {},
   "outputs": [],
   "source": [
    "plot_dir = \"plots/outage_maps_by_year\"\n",
    "os.makedirs(plot_dir, exist_ok=True)\n",
    "os.makedirs(os.path.join(plot_dir, \"US\"), exist_ok=True)\n",
    "os.makedirs(os.path.join(plot_dir, \"eastern_US\"), exist_ok=True)\n",
    "\n",
    "for year in years:\n",
    "\n",
    "    # sum across years to get one outage figure for each county\n",
    "    outages = df[df.year == year].copy()\n",
    "    # divide by length of time we have county data for\n",
    "    outages[\"outage_norm\"] = outages.outage_integral / outages.total_duration_h\n",
    "    # bring in geometry\n",
    "    joined = county_boundaries.loc[:, [\"GEOID\", \"geometry\"]].set_index(\"GEOID\").join(outages.set_index(\"county\"))\n",
    "\n",
    "    data = joined.outage_norm\n",
    "    data = data[data > 0]\n",
    "\n",
    "    f, ax = plt.subplots(figsize=(18, 10))\n",
    "    \n",
    "    cmap = \"PuBu_r\"\n",
    "    \n",
    "    norm = colors.LogNorm(vmin=1E-6, vmax=0.1)\n",
    "    cbar = plt.cm.ScalarMappable(norm=norm, cmap=cmap)\n",
    "    divider = make_axes_locatable(ax)\n",
    "    cax = divider.append_axes(\"right\", size=\"5%\", pad=0.05)\n",
    "    f.colorbar(cbar, cax=cax, label=\"Outage magnitude\")\n",
    "    \n",
    "    joined.plot(\"outage_norm\", ax=ax, cmap=cmap)\n",
    "    \n",
    "    ax.set_title(f\"Electricity outages April - October {year}\")\n",
    "    ax.set_xlabel(\"Longitude\")\n",
    "    ax.set_ylabel(\"Latitude\")\n",
    "    \n",
    "    ax.grid(alpha=0.2)\n",
    "    ax.set_frame_on(False)\n",
    "    ax.set_aspect(\"equal\")\n",
    "\n",
    "    ax.set_xlim(-128, -63)\n",
    "    ax.set_ylim(22, 51)\n",
    "    f.savefig(os.path.join(plot_dir, \"US\", f\"{year}.png\"))\n",
    "\n",
    "    ax.set_xlim(-101, -66)\n",
    "    ax.set_ylim(23, 49)\n",
    "    f.savefig(os.path.join(plot_dir, \"eastern_US\", f\"{year}.png\"))\n",
    "    \n",
    "    plt.close(f)"
   ]
  }
 ],
 "metadata": {
  "kernelspec": {
   "display_name": "Python 3 (ipykernel)",
   "language": "python",
   "name": "python3"
  },
  "language_info": {
   "codemirror_mode": {
    "name": "ipython",
    "version": 3
   },
   "file_extension": ".py",
   "mimetype": "text/x-python",
   "name": "python",
   "nbconvert_exporter": "python",
   "pygments_lexer": "ipython3",
   "version": "3.11.0"
  }
 },
 "nbformat": 4,
 "nbformat_minor": 5
}
