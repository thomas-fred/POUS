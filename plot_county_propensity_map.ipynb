{
 "cells": [
  {
   "cell_type": "code",
   "execution_count": 2,
   "id": "30f791f9-248f-40e3-858a-331d7cd07ccf",
   "metadata": {},
   "outputs": [],
   "source": [
    "import os\n",
    "\n",
    "import geopandas as gpd\n",
    "import matplotlib\n",
    "import matplotlib.pyplot as plt\n",
    "import matplotlib.colors as colors\n",
    "from mpl_toolkits.axes_grid1 import make_axes_locatable\n",
    "import numpy as np\n",
    "import pandas as pd\n",
    "from scipy.integrate import simpson\n",
    "from tqdm.notebook import tqdm\n",
    "\n",
    "from lib import merge_in_geometry"
   ]
  },
  {
   "cell_type": "code",
   "execution_count": 3,
   "id": "50b5942f",
   "metadata": {},
   "outputs": [
    {
     "data": {
      "text/html": [
       "<style>.container { width:100% !important; }</style>"
      ],
      "text/plain": [
       "<IPython.core.display.HTML object>"
      ]
     },
     "metadata": {},
     "output_type": "display_data"
    }
   ],
   "source": [
    "from IPython.display import display, HTML\n",
    "display(HTML(\"<style>.container { width:100% !important; }</style>\"))"
   ]
  },
  {
   "cell_type": "code",
   "execution_count": 4,
   "id": "1995bea8-24f6-4e66-9d96-136c285f691b",
   "metadata": {},
   "outputs": [],
   "source": [
    "plt.style.use('dark_background')  # for cool points"
   ]
  },
  {
   "cell_type": "code",
   "execution_count": 26,
   "id": "49a188b2-89e5-4877-b074-2df159e8cde2",
   "metadata": {},
   "outputs": [],
   "source": [
    "years = list(range(2017, 2023))  # years we have POUS data for\n",
    "resample_freq = \"1D\"  # resample raw hourly data to this resolution, then check for outage state\n",
    "\n",
    "root_dir = \"data\"\n",
    "states = pd.read_csv(os.path.join(root_dir, \"raw/states/state_codes.csv\")).set_index(\"state_fips_code\")\n",
    "county_boundaries: gpd.GeoDataFrame = gpd.read_file(os.path.join(root_dir, \"raw/counties/cb_2018_us_county_500k.shp\"))\n",
    "outage_integrals_path = os.path.join(\"data\", \"processed\", \"outage\", f\"{resample_freq}_county_outage_integrals.csv\")\n",
    "yearly_outage_integrals_path = os.path.join(\"data\", \"processed\", \"outage\", \"yearly_county_outage_integrals.csv\")"
   ]
  },
  {
   "cell_type": "code",
   "execution_count": 6,
   "id": "88657239-b71e-4ccd-99a7-6efded7367d6",
   "metadata": {},
   "outputs": [],
   "source": [
    "# read source data\n",
    "data_by_year = {}\n",
    "for year in years:\n",
    "    processed_path = os.path.join(root_dir, f\"processed/outage/{year}.parquet\")\n",
    "    data = pd.read_parquet(processed_path)\n",
    "    data.OutageFraction = np.clip(data.OutageFraction, 0, 1)\n",
    "    data_by_year[year] = data\n",
    "\n",
    "# find set of all counties in data\n",
    "counties = set()\n",
    "for year, data in data_by_year.items():\n",
    "    counties = counties | set(data.index.get_level_values(\"CountyFIPS\"))\n",
    "counties = sorted(counties)"
   ]
  },
  {
   "cell_type": "code",
   "execution_count": 12,
   "id": "48cbe883",
   "metadata": {},
   "outputs": [],
   "source": [
    "# construct complete timeseries\n",
    "# resample to resample_freq and take mean of OutageFraction\n",
    "# save to disk as cache\n",
    "\n",
    "if os.path.exists(outage_integrals_path):\n",
    "    df = pd.read_csv(outage_integrals_path, dtype={\"CountyFIPS\": str})    \n",
    "    \n",
    "else:\n",
    "    resampled_data_by_year = []\n",
    "    for county_code in tqdm(counties):\n",
    "\n",
    "        # whole timeseries April-October for single county\n",
    "        for year in years:\n",
    "            df = data_by_year[year]\n",
    "            try:\n",
    "                data = df.loc(axis=0)[:, county_code].reset_index(level=\"CountyFIPS\")\n",
    "                complete_index = pd.date_range(f\"{year}-04-01\", f\"{year}-10-31\", freq=\"1H\")\n",
    "                data = data.reindex(index=complete_index, fill_value=0)\n",
    "                data.index.name = \"RecordDateTime\"\n",
    "            except KeyError:\n",
    "                continue\n",
    "\n",
    "            data = data.drop(columns=[\"CountyFIPS\"]).resample(resample_freq).mean()\n",
    "            data[\"CountyFIPS\"] = county_code\n",
    "            resampled_data_by_year.append(data)\n",
    "            \n",
    "    df = pd.concat(resampled_data_by_year)\n",
    "    df.to_csv(outage_integrals_path)"
   ]
  },
  {
   "cell_type": "code",
   "execution_count": 37,
   "id": "274b00b2",
   "metadata": {
    "scrolled": false
   },
   "outputs": [],
   "source": [
    "for outage_threshold in [0.01, 0.05, 0.1, 0.2, 0.5, 0.75, 0.9, 0.95, 0.99]:\n",
    "\n",
    "    # filter to outages\n",
    "    outages = df.set_index(pd.to_datetime(df.RecordDateTime)).drop(\"RecordDateTime\", axis=1)\n",
    "    outages = outages.drop([\"CustomersTracked\", \"CustomersOut\"], axis=1)\n",
    "    outages = outages[outages.OutageFraction > outage_threshold]\n",
    "\n",
    "    # draw county chloropleth map of # time periods exceeding OutageFraction\n",
    "\n",
    "    outage_counties = set(outages.CountyFIPS)\n",
    "    bad_county_mask = county_boundaries.GEOID.isin(outage_counties)\n",
    "    bad_counties_with_geometry = county_boundaries[bad_county_mask].set_index(\"GEOID\").loc[:, \"geometry\"]\n",
    "    bad_counties_outage_period_counts = gpd.GeoDataFrame(\n",
    "        pd.DataFrame(outages.CountyFIPS.value_counts()).join(bad_counties_with_geometry)\n",
    "    )\n",
    "    bad_counties_outage_period_counts.rename(columns={\"count\": \"periods_over_threshold\"}, inplace=True)\n",
    "    min_count = min(bad_counties_outage_period_counts.periods_over_threshold)\n",
    "    max_count = max(bad_counties_outage_period_counts.periods_over_threshold)\n",
    "\n",
    "    f, ax = plt.subplots(figsize=(16, 10))\n",
    "\n",
    "    cmap = \"Blues_r\"\n",
    "    bad_counties_outage_period_counts\n",
    "    norm = colors.Normalize(vmin=min_count, vmax=max_count)\n",
    "    cbar = plt.cm.ScalarMappable(norm=norm, cmap=cmap)\n",
    "    divider = make_axes_locatable(ax)\n",
    "    cax = divider.append_axes(\"right\", size=\"3%\", pad=-1)\n",
    "    cbar = f.colorbar(cbar, cax=cax, format=lambda x, _: f\"{int(x):00d}\")\n",
    "    cbar.set_label(f\"Count of {resample_freq} periods over {outage_threshold} OutageFraction\", labelpad=25)\n",
    "\n",
    "    bad_counties_outage_period_counts.plot(\"periods_over_threshold\", ax=ax, cmap=cmap)\n",
    "\n",
    "    ax.set_xlabel(\"Longitude\")\n",
    "    ax.set_ylabel(\"Latitude\")\n",
    "    ax.set_title(\"Most outage prone US counties, 2017-2022\")\n",
    "    ax.grid(alpha=0.2)\n",
    "    ax.set_frame_on(False)\n",
    "    ax.set_xlim(-128, -63)\n",
    "    ax.set_ylim(22, 51)\n",
    "    plt.subplots_adjust(left=0.05, right=0.9)\n",
    "\n",
    "    plot_dir = os.path.join(\"plots\", \"outage_propensity\")\n",
    "    os.makedirs(plot_dir, exist_ok=True)\n",
    "    f.savefig(os.path.join(plot_dir, f\"resample_freq_{resample_freq}_threshold_{outage_threshold:.2f}.png\"))\n",
    "    plt.close(f)"
   ]
  }
 ],
 "metadata": {
  "kernelspec": {
   "display_name": "Python 3 (ipykernel)",
   "language": "python",
   "name": "python3"
  },
  "language_info": {
   "codemirror_mode": {
    "name": "ipython",
    "version": 3
   },
   "file_extension": ".py",
   "mimetype": "text/x-python",
   "name": "python",
   "nbconvert_exporter": "python",
   "pygments_lexer": "ipython3",
   "version": "3.11.0"
  }
 },
 "nbformat": 4,
 "nbformat_minor": 5
}
