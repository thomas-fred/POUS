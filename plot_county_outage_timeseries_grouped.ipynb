{
 "cells": [
  {
   "cell_type": "code",
   "execution_count": 1,
   "id": "30f791f9-248f-40e3-858a-331d7cd07ccf",
   "metadata": {},
   "outputs": [
    {
     "name": "stderr",
     "output_type": "stream",
     "text": [
      "/tmp/ipykernel_2476911/1907831832.py:3: UserWarning: Shapely 2.0 is installed, but because PyGEOS is also installed, GeoPandas will still use PyGEOS by default for now. To force to use and test Shapely 2.0, you have to set the environment variable USE_PYGEOS=0. You can do this before starting the Python process, or in your code before importing geopandas:\n",
      "\n",
      "import os\n",
      "os.environ['USE_PYGEOS'] = '0'\n",
      "import geopandas\n",
      "\n",
      "In a future release, GeoPandas will switch to using Shapely by default. If you are using PyGEOS directly (calling PyGEOS functions on geometries from GeoPandas), this will then stop working and you are encouraged to migrate from PyGEOS to Shapely 2.0 (https://shapely.readthedocs.io/en/latest/migration_pygeos.html).\n",
      "  import geopandas as gpd\n"
     ]
    }
   ],
   "source": [
    "import os\n",
    "\n",
    "import geopandas as gpd\n",
    "import matplotlib\n",
    "import matplotlib.pyplot as plt\n",
    "import matplotlib.colors as colors\n",
    "from mpl_toolkits.axes_grid1 import make_axes_locatable\n",
    "import numpy as np\n",
    "import pandas as pd\n",
    "from scipy.integrate import simpson\n",
    "from tqdm.notebook import tqdm\n",
    "\n",
    "from lib import merge_in_geometry"
   ]
  },
  {
   "cell_type": "code",
   "execution_count": 2,
   "id": "1995bea8-24f6-4e66-9d96-136c285f691b",
   "metadata": {},
   "outputs": [],
   "source": [
    "plt.style.use('dark_background')  # for cool points"
   ]
  },
  {
   "cell_type": "code",
   "execution_count": 3,
   "id": "49a188b2-89e5-4877-b074-2df159e8cde2",
   "metadata": {},
   "outputs": [],
   "source": [
    "years = list(range(2017, 2023))  # years we have POUS data for\n",
    "outage_threshold = 0.2  # OutageFraction above this is considered an outage\n",
    "resample_freq = \"1D\"  # resample raw hourly data to this resolution, then check for outage state\n",
    "start_buffer = \"2D\"  # when plotting outage timeseries, start this delta ahead of first outage period\n",
    "end_buffer = \"1W\"  # when plotting outage timeseries, end this delta after last outage period\n",
    "\n",
    "root_dir = \"data\"\n",
    "states = pd.read_csv(\n",
    "    os.path.join(\n",
    "        root_dir,\n",
    "        \"raw\",\n",
    "        \"states\",\n",
    "        \"state_codes.csv\"\n",
    "    )\n",
    ").set_index(\"state_fips_code\")\n",
    "county_boundaries: gpd.GeoDataFrame = gpd.read_file(\n",
    "    os.path.join(\n",
    "        root_dir,\n",
    "        \"raw\",\n",
    "        \"counties\",\n",
    "        \"cb_2018_us_county_500k.shp\"\n",
    "    )\n",
    ")\n",
    "outage_integrals_path = os.path.join(\n",
    "    root_dir,\n",
    "    \"processed\",\n",
    "    \"outage\",\n",
    "    f\"{resample_freq}_county_outage_integrals.csv\"\n",
    ")\n",
    "outage_attr_path = os.path.join(\n",
    "    root_dir,\n",
    "    \"processed\",\n",
    "    \"outage\",\n",
    "    \"outage_attributes_for_clustering.csv\"\n",
    ")"
   ]
  },
  {
   "cell_type": "code",
   "execution_count": 4,
   "id": "88657239-b71e-4ccd-99a7-6efded7367d6",
   "metadata": {},
   "outputs": [],
   "source": [
    "# read source data\n",
    "data_by_year = {}\n",
    "for year in years:\n",
    "    processed_path = os.path.join(root_dir, f\"processed/outage/{year}.parquet\")\n",
    "    data = pd.read_parquet(processed_path)\n",
    "    data.OutageFraction = np.clip(data.OutageFraction, 0, 1)\n",
    "    data_by_year[year] = data\n",
    "\n",
    "# find set of all counties in data\n",
    "counties = set()\n",
    "for year, data in data_by_year.items():\n",
    "    counties = counties | set(data.index.get_level_values(\"CountyFIPS\"))\n",
    "counties = sorted(counties)\n",
    "\n",
    "# another view of source data, concat into single dataframe\n",
    "all_counties_hourly = pd.concat(data_by_year).drop(columns=[\"CustomersTracked\", \"CustomersOut\"])\n",
    "all_counties_hourly = all_counties_hourly.droplevel(0)"
   ]
  },
  {
   "cell_type": "code",
   "execution_count": 5,
   "id": "e7382718",
   "metadata": {},
   "outputs": [],
   "source": [
    "# construct complete timeseries\n",
    "# resample to resample_freq and take mean of OutageFraction\n",
    "# save to disk as cache\n",
    "\n",
    "if os.path.exists(outage_integrals_path):\n",
    "    df = pd.read_csv(outage_integrals_path, dtype={\"CountyFIPS\": str})    \n",
    "    \n",
    "else:\n",
    "    resampled_data_by_year = []\n",
    "    for county_code in tqdm(counties):\n",
    "\n",
    "        # whole timeseries April-October for single county\n",
    "        for year in years:\n",
    "            df = data_by_year[year]\n",
    "            try:\n",
    "                data = df.loc(axis=0)[:, county_code].reset_index(level=\"CountyFIPS\")\n",
    "                complete_index = pd.date_range(f\"{year}-04-01\", f\"{year}-10-31\", freq=\"1H\")\n",
    "                data = data.reindex(index=complete_index, fill_value=0)\n",
    "                data.index.name = \"RecordDateTime\"\n",
    "            except KeyError:\n",
    "                continue\n",
    "\n",
    "            data = data.drop(columns=[\"CountyFIPS\"]).resample(resample_freq).mean()\n",
    "            data[\"CountyFIPS\"] = county_code\n",
    "            resampled_data_by_year.append(data)\n",
    "            \n",
    "    df = pd.concat(resampled_data_by_year)\n",
    "    df.to_csv(outage_integrals_path)"
   ]
  },
  {
   "cell_type": "code",
   "execution_count": 6,
   "id": "a77345e8",
   "metadata": {
    "scrolled": true
   },
   "outputs": [
    {
     "data": {
      "application/vnd.jupyter.widget-view+json": {
       "model_id": "0844484c7ffb42319debed0ff8e201d7",
       "version_major": 2,
       "version_minor": 0
      },
      "text/plain": [
       "  0%|          | 0/1307 [00:00<?, ?it/s]"
      ]
     },
     "metadata": {},
     "output_type": "display_data"
    }
   ],
   "source": [
    "if os.path.exists(outage_attr_path):\n",
    "    outage_attributes = pd.read_csv(outage_attr_path, dtype={\"CountyFIPS\": str})\n",
    "\n",
    "else:   \n",
    "    data_start: pd.Timestamp = pd.to_datetime(f\"{min(years)}-04-01\")\n",
    "    \n",
    "    # take the resampled data and filter to periods with OutageFraction above a threshold\n",
    "    outages = df.set_index(pd.to_datetime(df.RecordDateTime)).drop(\"RecordDateTime\", axis=1)\n",
    "    outages = outages.drop([\"CustomersTracked\", \"CustomersOut\"], axis=1)\n",
    "    outages = outages[outages.OutageFraction > outage_threshold]\n",
    "\n",
    "    # duration of single resampling period in nanoseconds\n",
    "    length_of_resample_period_ns = pd.Timedelta(resample_freq).total_seconds() * 1E9\n",
    "\n",
    "    outage_attributes = []\n",
    "    for county_code in tqdm(set(outages.CountyFIPS)):\n",
    "\n",
    "        county_outages_resampled: pd.DataFrame = outages[outages.CountyFIPS == county_code]\n",
    "        county_data_hourly: pd.DataFrame = all_counties_hourly.loc[(slice(None), county_code), :]\n",
    "\n",
    "        # picking out runs of resampled outage periods\n",
    "        start = 0\n",
    "        outage_period_resampled_indicies: list[tuple[int, int]] = []\n",
    "        for i, time_gap_ns in enumerate(np.diff(county_outages_resampled.index.values)):\n",
    "            # should probably check that we are more than a fraction of a nanosecond different\n",
    "            # 25 hour days etc.\n",
    "            if float(time_gap_ns) != length_of_resample_period_ns:\n",
    "                outage_period_resampled_indicies.append((start, i))\n",
    "                start = i + 1\n",
    "\n",
    "        county_centroid = county_boundaries.set_index(\"GEOID\").loc[county_code].geometry.centroid\n",
    "\n",
    "        for period_indicies in outage_period_resampled_indicies:\n",
    "\n",
    "            start_i, end_i = period_indicies\n",
    "            n_periods: int = end_i - start_i\n",
    "\n",
    "            # check outage is at least a day long\n",
    "            if (pd.Timedelta(resample_freq) * n_periods) > pd.Timedelta(\"1D\"):\n",
    "\n",
    "                # retrieve indicies of resampled run of outage periods\n",
    "                group_datetimeindex: pd.DatetimeIndex = county_outages_resampled.iloc[start_i: end_i + 1].index\n",
    "\n",
    "                outage_attributes.append(\n",
    "                    (\n",
    "                        county_code,\n",
    "                        group_datetimeindex[0].date(),\n",
    "                        (group_datetimeindex[0] - data_start).value / (1E9 * 60 * 60 * 24),\n",
    "                        group_datetimeindex[0].year,\n",
    "                        group_datetimeindex[0].day_of_year,\n",
    "                        n_periods,\n",
    "                        county_centroid.x,\n",
    "                        county_centroid.y\n",
    "                    )\n",
    "                )\n",
    "            \n",
    "            \n",
    "    outage_attributes = pd.DataFrame(\n",
    "        outage_attributes,\n",
    "        columns=[\n",
    "            \"CountyFIPS\",\n",
    "            \"start\",\n",
    "            \"days_since_data_start\",\n",
    "            \"year\",\n",
    "            \"day_of_year\",\n",
    "            \"n_periods\",\n",
    "            \"county_long\",\n",
    "            \"county_lat\"\n",
    "        ]\n",
    "    )\n",
    "    outage_attributes.to_csv(outage_attr_path, index=False)\n",
    "    \n",
    "outage_attributes = outage_attributes.sort_values(\"days_since_data_start\").reset_index()"
   ]
  },
  {
   "cell_type": "code",
   "execution_count": 8,
   "id": "3512d688",
   "metadata": {},
   "outputs": [],
   "source": [
    "def us_admin_name(\n",
    "    county_code: str,\n",
    "    county_boundaries: gpd.GeoDataFrame,\n",
    "    states: pd.DataFrame\n",
    ") -> tuple[str, str]:\n",
    "    \"\"\"\n",
    "    Lookup county name, containing state name and code, given a 5-digit string county code.\n",
    "    \"\"\"\n",
    "    \n",
    "    try:\n",
    "        county_admin_data: pd.Series = \\\n",
    "            county_boundaries.sort_values(\"GEOID\").set_index(\"GEOID\").loc[county_code, :]\n",
    "        state_code: str = county_admin_data.STATEFP\n",
    "        state_name: str = states.loc[int(state_code), \"state_name\"]\n",
    "        county_name: str = county_admin_data.NAME\n",
    "    except Exception as e:\n",
    "        state_name = \"-\"\n",
    "        county_name = \"-\"\n",
    "        \n",
    "    return county_name, state_name, state_code"
   ]
  },
  {
   "cell_type": "code",
   "execution_count": 10,
   "id": "d642523c",
   "metadata": {},
   "outputs": [
    {
     "data": {
      "text/plain": [
       "Text(0.5, 1.0, 'Pairwise distance in time')"
      ]
     },
     "execution_count": 10,
     "metadata": {},
     "output_type": "execute_result"
    },
    {
     "data": {
      "image/png": "[encoded data removed]",
      "text/plain": [
       "<Figure size 640x480 with 1 Axes>"
      ]
     },
     "metadata": {},
     "output_type": "display_data"
    }
   ],
   "source": [
    "# calculate the pairwise distance in time between outage events\n",
    "arr = outage_attributes.days_since_data_start.values\n",
    "distance = np.abs(arr - arr[:, None])\n",
    "f, ax = plt.subplots()\n",
    "ax.imshow(distance)\n",
    "ax.set_title(\"Pairwise distance in time\")"
   ]
  },
  {
   "cell_type": "code",
   "execution_count": 11,
   "id": "f876b94b",
   "metadata": {},
   "outputs": [],
   "source": [
    "plot_dir = os.path.join(\n",
    "    \"plots\",\n",
    "    \"outage_timeseries_county_grouped\",\n",
    "    f\"resample_{resample_freq}\",\n",
    "    f\"threshold_{outage_threshold}\"\n",
    ")\n",
    "os.makedirs(plot_dir, exist_ok=True)\n",
    "\n",
    "pairwise_distance_threshold_days = 5  # group outage events within this many days of each other\n",
    "all_group_indicies = []\n",
    "for i, n_days in enumerate(arr):\n",
    "    group_indicies = outage_attributes.loc[distance[i] < pairwise_distance_threshold_days, :].index\n",
    "    all_group_indicies.append(tuple(group_indicies))\n",
    "unique_group_indicies = set(all_group_indicies)\n",
    "\n",
    "for i, group_indicies in enumerate(unique_group_indicies):\n",
    "    \n",
    "    event = outage_attributes.loc[list(group_indicies)]\n",
    "    f, ax = plt.subplots(figsize=(16, 10))\n",
    "    \n",
    "    for outage_attr in event.itertuples():\n",
    "\n",
    "        county_data_hourly: pd.DataFrame = all_counties_hourly.loc[(slice(None), outage_attr.CountyFIPS), :]\n",
    "\n",
    "        # add a buffer around the start and end of the run\n",
    "        event_start_datetime = pd.to_datetime(outage_attr.start)\n",
    "        plot_start: str = str((event_start_datetime - pd.Timedelta(start_buffer)).date())\n",
    "        event_end_datetime = event_start_datetime + pd.Timedelta(resample_freq) * outage_attr.n_periods\n",
    "        plot_end: str = str((event_end_datetime + pd.Timedelta(end_buffer)).date())\n",
    "\n",
    "        county_name, state_name, state_code = us_admin_name(outage_attr.CountyFIPS, county_boundaries, states)\n",
    "            \n",
    "        # select our hourly data to plot\n",
    "        county_data_hourly.droplevel(1).loc[plot_start: plot_end, \"OutageFraction\"].plot(\n",
    "            ax=ax,\n",
    "            x_compat=True,  # enforce standard matplotlib date tick labelling \"2023-09-21\"\n",
    "            label=f\"{county_name}, {states.loc[int(state_code), 'state_alpha_2_code']}\"\n",
    "        )\n",
    "        \n",
    "    ax.set_ylabel(\"OutageFraction\", labelpad=20)\n",
    "    ax.set_xlabel(\"Time\", labelpad=20)\n",
    "    ax.set_ylim(0, 1.1)\n",
    "    ax.grid(alpha=0.3)\n",
    "    ax.legend()\n",
    "    plt.subplots_adjust(bottom=0.2, top=0.9, left=0.1, right=0.91)\n",
    "\n",
    "    f.savefig(\n",
    "        os.path.join(\n",
    "            plot_dir,\n",
    "            f\"{i}.png\"\n",
    "        )\n",
    "    )\n",
    "    plt.close(f)"
   ]
  }
 ],
 "metadata": {
  "kernelspec": {
   "display_name": "Python 3 (ipykernel)",
   "language": "python",
   "name": "python3"
  },
  "language_info": {
   "codemirror_mode": {
    "name": "ipython",
    "version": 3
   },
   "file_extension": ".py",
   "mimetype": "text/x-python",
   "name": "python",
   "nbconvert_exporter": "python",
   "pygments_lexer": "ipython3",
   "version": "3.11.0"
  }
 },
 "nbformat": 4,
 "nbformat_minor": 5
}
